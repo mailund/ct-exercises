{
 "cells": [
  {
   "cell_type": "markdown",
   "metadata": {},
   "source": [
    "# Don't eat dog shit\n",
    "\n",
    "Here's a little game you can play with a friend. Say you have $n-1$ pieces of cage and one dog shit."
   ]
  },
  {
   "cell_type": "code",
   "execution_count": 1,
   "metadata": {
    "collapsed": true
   },
   "outputs": [],
   "source": [
    "items = [\"💩\", \"🍰\", \"🍰\", \"🍰\", \"🍰\"]\n",
    "n = len(items)"
   ]
  },
  {
   "cell_type": "markdown",
   "metadata": {},
   "source": [
    "You will now take turns picking up, from the end of the list, one, two, or three items and eat them. Then your friend will take one, two, or three items. Then you again. And you will continue like that until there is nothing left.\n",
    "\n",
    "You want to eat cake, but obviously not shit, so you want to pick the number of items you take such that you do not end up having to take the last piece.\n",
    "\n",
    "It is unlikely that you have any friends who would want to play this game with you, so we will program a player as a computer program instead. We set up the game using this code:"
   ]
  },
  {
   "cell_type": "code",
   "execution_count": 2,
   "metadata": {
    "collapsed": true
   },
   "outputs": [],
   "source": [
    "shit = [\"💩\"]\n",
    "cake = [\"🍰\"]\n",
    "from random import randint\n",
    "\n",
    "def get_initial_state(min_n = 10, max_n = 15):\n",
    "    \"\"\"\n",
    "    Construct an initial state of the game,\n",
    "    represented as a list.\n",
    "    \"\"\"\n",
    "    num_cakes = randint(min_n - 1, max_n - 1)\n",
    "    return shit + num_cakes * cake"
   ]
  },
  {
   "cell_type": "markdown",
   "metadata": {},
   "source": [
    "We can test the function by calling it."
   ]
  },
  {
   "cell_type": "code",
   "execution_count": 3,
   "metadata": {},
   "outputs": [
    {
     "data": {
      "text/plain": [
       "['💩', '🍰', '🍰', '🍰', '🍰', '🍰', '🍰', '🍰', '🍰', '🍰', '🍰', '🍰', '🍰', '🍰']"
      ]
     },
     "execution_count": 3,
     "metadata": {},
     "output_type": "execute_result"
    }
   ],
   "source": [
    "get_initial_state()"
   ]
  },
  {
   "cell_type": "markdown",
   "metadata": {},
   "source": [
    "Now, for implementing the steps in the game, we write a function for your moves and one for the computer's moves. For the latter, we start out with picking a random number of items eat.\n",
    "\n",
    "When we play the game, we will print the state so you can. The computer cannot see what we print in its choice function so we have to provide information about the state to it. Otherwise, it will not have the same information that you have, which would be unfair. If we tell it what the number of items left are, before it has to choose a number of items to eat, then it will have the same information as you do. To make the two move functions similar enough that we do not have to worry about which we are calling later, we provide the same information to your move function as well."
   ]
  },
  {
   "cell_type": "code",
   "execution_count": 4,
   "metadata": {
    "collapsed": true
   },
   "outputs": [],
   "source": [
    "def your_move(n):\n",
    "    \"\"\"\n",
    "    Prompt you for your choice.\n",
    "    \"\"\"\n",
    "    while True:\n",
    "        try:\n",
    "            choice = input(\"How many items do you take? \")\n",
    "            choice = int(choice)\n",
    "            if choice not in [1,2,3]:\n",
    "                print(\"You have to choose one of 1, 2, or 3.\")\n",
    "                continue\n",
    "            return choice\n",
    "        except:\n",
    "            print(\"You did not input an integer.\")"
   ]
  },
  {
   "cell_type": "code",
   "execution_count": 5,
   "metadata": {
    "collapsed": true
   },
   "outputs": [],
   "source": [
    "from random import randint\n",
    "def computer_move(n):\n",
    "    \"\"\"\n",
    "    Make the computer choose a number of items to take.\n",
    "    \"\"\"\n",
    "    return randint(1,3)"
   ]
  },
  {
   "cell_type": "markdown",
   "metadata": {},
   "source": [
    "OK, with this simple strategy, it doesn't actually use the state information, but we will come up with a smarter strategy later.\n",
    "\n",
    "The entire game can now be implemented as a look that runs until the last pieces is taken."
   ]
  },
  {
   "cell_type": "code",
   "execution_count": 6,
   "metadata": {
    "collapsed": true
   },
   "outputs": [],
   "source": [
    "def run_game(min_n = 10, max_n = 15):\n",
    "    \"\"\"\n",
    "    Set up the game and run it until the last item is taken.\n",
    "    \"\"\"\n",
    "    players = [your_move, computer_move]\n",
    "    player_names = [\"You\", \"Computer\"]\n",
    "    turn = 0\n",
    "    state = get_initial_state(min_n, max_n)\n",
    "    n = len(state)\n",
    "    \n",
    "    while n > 0:\n",
    "        print(\"State: {}\".format(\"\".join(state)))\n",
    "        print(\"Turn: {}\".format(player_names[turn % 2]))\n",
    "        choice = players[turn % 2](n)\n",
    "        while choice > n: # don't pick too high a number\n",
    "            print(\"There are only {} items left!\".format(n))\n",
    "            choice = players[turn % 2](n)\n",
    "        print(\"Taking {} items.\\n\".format(choice))\n",
    "        state = state[:-choice]\n",
    "        n = len(state)\n",
    "        turn += 1\n",
    "        \n",
    "    # turn is incremented in the last loop, so turn-1 % 2\n",
    "    # is the player that took the last item.\n",
    "    if (turn - 1) % 2 == 0:\n",
    "        print(\"You loose! 🤮\")\n",
    "    else:\n",
    "        print(\"You win 😓\")"
   ]
  },
  {
   "cell_type": "code",
   "execution_count": 7,
   "metadata": {},
   "outputs": [
    {
     "name": "stdout",
     "output_type": "stream",
     "text": [
      "State: 💩🍰🍰🍰🍰🍰🍰🍰🍰🍰🍰🍰🍰🍰\n",
      "Turn: You\n",
      "How many items do you take? 3\n",
      "Taking 3 items.\n",
      "\n",
      "State: 💩🍰🍰🍰🍰🍰🍰🍰🍰🍰🍰\n",
      "Turn: Computer\n",
      "Taking 2 items.\n",
      "\n",
      "State: 💩🍰🍰🍰🍰🍰🍰🍰🍰\n",
      "Turn: You\n",
      "How many items do you take? 2\n",
      "Taking 2 items.\n",
      "\n",
      "State: 💩🍰🍰🍰🍰🍰🍰\n",
      "Turn: Computer\n",
      "Taking 3 items.\n",
      "\n",
      "State: 💩🍰🍰🍰\n",
      "Turn: You\n",
      "How many items do you take? 3\n",
      "Taking 3 items.\n",
      "\n",
      "State: 💩\n",
      "Turn: Computer\n",
      "There are only 1 items left!\n",
      "There are only 1 items left!\n",
      "There are only 1 items left!\n",
      "There are only 1 items left!\n",
      "Taking 1 items.\n",
      "\n",
      "You win 😓\n"
     ]
    }
   ],
   "source": [
    "run_game()"
   ]
  },
  {
   "cell_type": "markdown",
   "metadata": {},
   "source": [
    "## Implementing a clever AI\n",
    "\n",
    "The computer strategy is to pick a random number. This might be good enough to beat you on rare occasions, but we can come up with a smarter strategy for it. Maybe, something like this:"
   ]
  },
  {
   "cell_type": "code",
   "execution_count": 8,
   "metadata": {
    "collapsed": true
   },
   "outputs": [],
   "source": [
    "def computer_move(n):\n",
    "    return max(1, (n-1) % 4)"
   ]
  },
  {
   "cell_type": "markdown",
   "metadata": {},
   "source": [
    "Try to beat it now."
   ]
  },
  {
   "cell_type": "code",
   "execution_count": 9,
   "metadata": {},
   "outputs": [
    {
     "name": "stdout",
     "output_type": "stream",
     "text": [
      "State: 💩🍰🍰🍰🍰🍰🍰🍰🍰🍰\n",
      "Turn: You\n",
      "How many items do you take? 3\n",
      "Taking 3 items.\n",
      "\n",
      "State: 💩🍰🍰🍰🍰🍰🍰\n",
      "Turn: Computer\n",
      "Taking 2 items.\n",
      "\n",
      "State: 💩🍰🍰🍰🍰\n",
      "Turn: You\n",
      "How many items do you take? 2\n",
      "Taking 2 items.\n",
      "\n",
      "State: 💩🍰🍰\n",
      "Turn: Computer\n",
      "Taking 2 items.\n",
      "\n",
      "State: 💩\n",
      "Turn: You\n",
      "How many items do you take? 1\n",
      "Taking 1 items.\n",
      "\n",
      "You loose! 🤮\n"
     ]
    }
   ],
   "source": [
    "run_game()"
   ]
  },
  {
   "cell_type": "markdown",
   "metadata": {},
   "source": [
    "Maybe you consider this too simple to be real artificial intelligence, but as a computer program, it will be hard to beat. If you are unlucky in the choice of initial state, or if you make a single mistake, it will beat you.\n",
    "\n",
    "Of course, the formula `max(1, (n-1) % 4)` wasn't chosen arbitrarily. If $n$ is chosen randomly, this strategy will win three times out of four against a player that never makes mistakes. To see this, and as a general approach to coming up with moves in a game, we can tabulate the different states, moves, and whether we have won or lost.\n",
    "\n",
    "|    State | Your move | Next state | Win or loose? |\n",
    "|----------|-----------|------------|---------------|\n",
    "|💩        | 1         |            | 🤮            |\n",
    "|💩🍰      | 1         | 💩         | 😓            |\n",
    "|💩🍰      | 2         |            | 🤮            |\n",
    "|💩🍰🍰    | 1         | 💩🍰      | ?            |\n",
    "|💩🍰🍰    | 2         | 💩        | 😓            |\n",
    "|💩🍰🍰    | 3         |           | 🤮            |\n",
    "|💩🍰🍰🍰  | 1         | 💩🍰🍰    | ?            |\n",
    "|💩🍰🍰🍰  | 2         | 💩🍰      | ?            |\n",
    "|💩🍰🍰🍰  | 3         | 💩        | 😓           |\n",
    "|💩🍰🍰🍰🍰  | 1         | 💩🍰🍰🍰    | ?            |\n",
    "|💩🍰🍰🍰🍰  | 2         | 💩🍰🍰      | ?            |\n",
    "|💩🍰🍰🍰🍰  | 3         | 💩🍰        | ?           |\n",
    "|💩🍰🍰🍰🍰🍰  | 1         | 💩🍰🍰🍰🍰    | ?            |\n",
    "|💩🍰🍰🍰🍰🍰  | 2         | 💩🍰🍰🍰      | ?            |\n",
    "|💩🍰🍰🍰🍰🍰  | 3         | 💩🍰🍰        | ?           |\n",
    "| ...           | ...       | ...           | ...       |\n",
    "\n",
    "and the table continues for longer and longer states.\n",
    "\n",
    "In this table, there are some states and moves where we can immediately see if we win or loose. If we only have 💩 left when we have to make a move, we will loose. If we can leave the state after our moves as only 💩, we win. If we had a choice and *could* have avoided eating 💩, but did so anyway, we still loose. Those are cases we can, and should, avoid. We can remove those choices and we have this table:\n",
    "\n",
    "|    State | Your move | Next state | Win or loose? |\n",
    "|----------|-----------|------------|---------------|\n",
    "|💩        | 1         |            | 🤮            |\n",
    "|💩🍰      | 1         | 💩         | 😓            |\n",
    "|💩🍰🍰    | 1         | 💩🍰      | ?            |\n",
    "|💩🍰🍰    | 2         | 💩        | 😓            |\n",
    "|💩🍰🍰🍰  | 1         | 💩🍰🍰    | ?            |\n",
    "|💩🍰🍰🍰  | 2         | 💩🍰      | ?            |\n",
    "|💩🍰🍰🍰  | 3         | 💩        | 😓           |\n",
    "|💩🍰🍰🍰🍰  | 1         | 💩🍰🍰🍰    | ?            |\n",
    "|💩🍰🍰🍰🍰  | 2         | 💩🍰🍰      | ?            |\n",
    "|💩🍰🍰🍰🍰  | 3         | 💩🍰        | ?           |\n",
    "|💩🍰🍰🍰🍰🍰  | 1         | 💩🍰🍰🍰🍰    | ?            |\n",
    "|💩🍰🍰🍰🍰🍰  | 2         | 💩🍰🍰🍰      | ?            |\n",
    "|💩🍰🍰🍰🍰🍰  | 3         | 💩🍰🍰        | ?           |\n",
    "| ...           | ...       | ...           | ...       |\n",
    "\n",
    "We cannot remove the loss in state 💩, though. This is the state we want to avoid, so we have to come up with a strategy for that.\n",
    "\n",
    "In some states we now have a move that we know will lead us to a win because the new state forces the computer to eat shit. If we are in state 💩🍰 and pick one item, we win. If we are in state 💩🍰🍰 and pick 2, we win. If we are in state 💩🍰🍰🍰, we win. We can ignore the other choices we might have made in those states, because we shouldn't make them. We already know a winning move from those states.\n",
    "\n",
    "|    State | Your move | Next state | Win or loose? |\n",
    "|----------|-----------|------------|---------------|\n",
    "|💩        | 1         |            | 🤮            |\n",
    "|💩🍰      | 1         | 💩         | 😓            |\n",
    "|💩🍰🍰    | 2         | 💩        | 😓            |\n",
    "|💩🍰🍰🍰  | 3         | 💩        | 😓           |\n",
    "|💩🍰🍰🍰🍰  | 1         | 💩🍰🍰🍰    | ?            |\n",
    "|💩🍰🍰🍰🍰  | 2         | 💩🍰🍰      | ?            |\n",
    "|💩🍰🍰🍰🍰  | 3         | 💩🍰        | ?           |\n",
    "|💩🍰🍰🍰🍰🍰  | 1         | 💩🍰🍰🍰🍰    | ?            |\n",
    "|💩🍰🍰🍰🍰🍰  | 2         | 💩🍰🍰🍰      | ?            |\n",
    "|💩🍰🍰🍰🍰🍰  | 3         | 💩🍰🍰        | ?           |\n",
    "| ...           | ...       | ...           | ...       |\n",
    "\n",
    "\n",
    "The strategy we want should always pick a winning move when it can, but we only know three winning moves (and one guaranteed loss) so far. How do we move from here?\n",
    "\n",
    "We can build up the table by considering the states from shortest to longest. If we look at a state and know the outcome for all shorter states, we can make a choice based on those. Of course, we cannot know with absolute certainty what will happen in the game for the shorter states--that depends on the choices the other player makes--but if we assume that he is as smart as we are, then we will have to assume that if he ends up in a state that we know we could win from, putting him in that state means that we will loose.\n",
    "\n",
    "Let us consider the shortest state where we do not know the outcome, 💩🍰🍰🍰🍰. From this state, we will end up in one of these: 💩🍰🍰🍰, 💩🍰🍰, or 💩🍰. We know that if *we* started in any of these states, we would win, so we must assume that if our adversary starts in one of these states *he* will win, i.e. we will loose. Since all out choices lead to loosing, the out come for this entire state is a loss, and we can update the table accordingly.\n",
    "\n",
    "|    State | Your move | Next state | Win or loose? |\n",
    "|----------|-----------|------------|---------------|\n",
    "|💩        | 1         |            | 🤮            |\n",
    "|💩🍰      | 1         | 💩         | 😓            |\n",
    "|💩🍰🍰    | 2         | 💩        | 😓            |\n",
    "|💩🍰🍰🍰  | 3         | 💩        | 😓           |\n",
    "|💩🍰🍰🍰🍰  | ?         | 💩🍰🍰🍰    | 🤮            |\n",
    "|💩🍰🍰🍰🍰🍰  | 1         | 💩🍰🍰🍰🍰    | ?            |\n",
    "|💩🍰🍰🍰🍰🍰  | 2         | 💩🍰🍰🍰      | ?            |\n",
    "|💩🍰🍰🍰🍰🍰  | 3         | 💩🍰🍰        | ?           |\n",
    "| ...           | ...       | ...           | ...       |\n",
    "\n",
    "Now, the shortest state is this: 💩🍰🍰🍰🍰🍰. Our possible choices leads us to one of these states, where we know the outcome: 💩🍰🍰🍰🍰 (🤮), 💩🍰🍰🍰 (😓), 💩🍰🍰 (😓). Here, the choice matters, but we can write down the outcome dependent on the choice.\n",
    "\n",
    "|    State | Your move | Next state | Win or loose? |\n",
    "|----------|-----------|------------|---------------|\n",
    "|💩        | 1         |            | 🤮            |\n",
    "|💩🍰      | 1         | 💩         | 😓            |\n",
    "|💩🍰🍰    | 2         | 💩        | 😓            |\n",
    "|💩🍰🍰🍰  | 3         | 💩        | 😓           |\n",
    "|💩🍰🍰🍰🍰  | ?         | 💩🍰🍰🍰    | 🤮            |\n",
    "|💩🍰🍰🍰🍰🍰  | 1         | 💩🍰🍰🍰🍰    | 🤮            |\n",
    "|💩🍰🍰🍰🍰🍰  | 2         | 💩🍰🍰🍰      | 😓            |\n",
    "|💩🍰🍰🍰🍰🍰  | 3         | 💩🍰🍰        | 😓           |\n",
    "| ...           | ...       | ...           | ...       |\n",
    "\n",
    "The states we mark as loosing here aren't guaranteed losses. If the adversary makes a mistake we are back in the game (and if we never make a mistake, because we have a winning strategy, then we will win after the first mistake he makes). If we are in a state we have marked as winning, we can always make a transition that moves us to another winning state, which is the same as saying that we move to a state where the adversary is in a loosing state and have to make a choice that leaves *us* in a winning state.\n",
    "\n",
    "**Exercise:** Prove that for all $n$ where $(n-1)\\mod 4 > 0$ we are in a winning state.\n",
    "\n",
    "If we are in a state $n$ where $(n-1)\\mod 4 = 0$, then we are in a loosing state, and it doesn't matter what we do. We can only hope that, at some later point, the adversary will make a mistake.\n",
    "\n",
    "**Exercise:** Prove from this, that the strategy $\\max(1,(n-1)\\mod 4)$ is the best we can do."
   ]
  }
 ],
 "metadata": {
  "kernelspec": {
   "display_name": "Python 3",
   "language": "python",
   "name": "python3"
  },
  "language_info": {
   "codemirror_mode": {
    "name": "ipython",
    "version": 3
   },
   "file_extension": ".py",
   "mimetype": "text/x-python",
   "name": "python",
   "nbconvert_exporter": "python",
   "pygments_lexer": "ipython3",
   "version": "3.5.2"
  }
 },
 "nbformat": 4,
 "nbformat_minor": 2
}
