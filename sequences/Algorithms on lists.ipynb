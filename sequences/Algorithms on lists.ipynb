{
 "cells": [
  {
   "cell_type": "markdown",
   "metadata": {},
   "source": [
    "# Algorithms on lists\n",
    "\n",
    "Lists are representations of ordered sequences of elements. These exercises involve algorithms where we have to examine or manipulate lists in order to solve a problem."
   ]
  },
  {
   "cell_type": "markdown",
   "metadata": {},
   "source": [
    "## Changing numerical base\n",
    "\n",
    "When we write a number such as 123 we usually mean this to be in base 10, that is, we implicitly understand this to be the number $3 \\times 10^0 + 2 \\times 10^1 + 1 \\times 10^2$. Starting from the right and moving towards the left, each digit represents an increasing power of tens. The number *could* also be in octal, although then we would usually write it like $123_8$. If the number was in octal, each digit would represent a power of eight, and the number should be understood as $3\\times 8^0 + 2 \\times 8^1 + 3 \\times 8^2$.\n",
    "\n",
    "Binary, octal and hexadecimal numbers--notation where the bases are 2, 8, and 16, respectively--are frequently used in (low-level) computer science as they are good choice for describing patterns of bits as well as numbers. Base 12, called duodecimal, has been proposed as a better choice than base 10 for doing arithmetic because 12 has more factors than 10 and this system would be easier to do multiplication and division in.\n",
    "\n",
    "In this exercise, we do not want to do arithmetic in different bases, but want to write a function that prints an integer in different bases.\n",
    "\n",
    "When the base is higher than 10, we need a way to represent the digits from 10 and up. There are proposed special symbols for these, and these can be found in unicode, but we will use letters, as is typically done for hexadecimal. We won't go above base 16, so we can use this table to map a number to a digit up to that base:"
   ]
  },
  {
   "cell_type": "code",
   "execution_count": 2,
   "metadata": {
    "collapsed": true
   },
   "outputs": [],
   "source": [
    "digits = {}\n",
    "\n",
    "for i in range(0,10):\n",
    "    digits[i] = str(i)\n",
    "\n",
    "digits[10] = 'A'\n",
    "digits[11] = 'B'\n",
    "digits[12] = 'C'\n",
    "digits[13] = 'D'\n",
    "digits[14] = 'E'\n",
    "digits[15] = 'F'"
   ]
  },
  {
   "cell_type": "markdown",
   "metadata": {},
   "source": [
    "To get the last digit in a number, in base $b$, we can take the division rest, the modulus, and map that using the `digits` table:"
   ]
  },
  {
   "cell_type": "code",
   "execution_count": 7,
   "metadata": {},
   "outputs": [
    {
     "name": "stdout",
     "output_type": "stream",
     "text": [
      "Base 2:   0 1 0 1 0 1 0 1 0 1 0 1 0 1 0 1\n",
      "Base 8:   0 1 2 3 4 5 6 7 0 1 2 3 4 5 6 7\n",
      "Base 16:  0 1 2 3 4 5 6 7 8 9 A B C D E F\n"
     ]
    }
   ],
   "source": [
    "def get_last_digit(i, b):\n",
    "    return digits[i % b]\n",
    "\n",
    "# If the \" \".join(...) expression looks strange to you, do not worry about it.\n",
    "# It is simply a succinct way of translating a list of digits into a string we can print.\n",
    "# You do not need to understand this code to do the exercise.\n",
    "print(\"Base 2:  \", \" \".join(get_last_digit(i,2) for i in range(0,16)))\n",
    "print(\"Base 8:  \", \" \".join(get_last_digit(i,8) for i in range(0,16)))\n",
    "print(\"Base 16: \", \" \".join(get_last_digit(i,16) for i in range(0,16)))"
   ]
  },
  {
   "cell_type": "markdown",
   "metadata": {},
   "source": [
    "You can extract the base $b$ representation of a number by building a list of digits starting with the smallest. You can use `digits[i % b]` to get the last digit and remember that in a list. Then we need to move on to the next digit. Now, if the number we are processing is $n = b^0 \\times a_0 + b^1\\times a_1 + b^2 \\times a_2 + \\cdots + b^m a_m$, then $a_0$ is the remainder in a division by $b$ and the digit we just extracted. Additionally, if $/$ denotes integer division, $n/b=b^0\\times a_1 + b^1 \\times a_2 + \\cdots b^{m-1}a_m$. So, we can get the next digit by first dividing $n$ by $b$ and then extract the smallest digit.\n",
    "\n",
    "If you iteratively extract the lowest digit and put it in a list and then reduce the number by dividing it by $b$, you should eventually have a list with all the digits, although in reverse order. If your list is named `lst`, you can reverse it using this function call `reversed(lst)`.\n",
    "\n",
    "**Exercise:** Flesh out an algorithm, based on the observations above, that can print any integer in any base $b\\le 16$. Show that your method terminates and outputs the correct string of digits."
   ]
  },
  {
   "cell_type": "markdown",
   "metadata": {},
   "source": [
    "## The Sieve of Eratosthenes\n",
    "\n",
    "> *Sift the Two's and Sift the Three's,*\n",
    ">\n",
    "> *The Sieve of Eratosthenes.*\n",
    ">\n",
    "> *When the multiples sublime,*\n",
    ">\n",
    "> *The numbers that remain are Prime.*\n",
    "\n",
    "\n",
    "The [Sieve of Eratosthenes](https://en.wikipedia.org/wiki/Sieve_of_Eratosthenes) is an early algorithm for computing all prime numbers less than some upper bound $n$. It works as follows: we start with a set of candidates for numbers that could be primes, and since we do not a priori know which numbers will be primes we start with all natural numbers from two and up to $n$.\n",
    "\n",
    "```python\n",
    "candidates = list(range(2, n + 1))\n",
    "```\n",
    "\n",
    "We are going to figure out which are primes by elimination and put the primes in another list that is initially empty\n",
    "\n",
    "```python\n",
    "primes = []\n",
    "```\n",
    "\n",
    "The trick now is to remove from the candidates numbers we know are not primes, and we do this by elimination. I will require the following loop invariants:\n",
    "\n",
    "1. All numbers in `primes` are prime.\n",
    "2. No number in `candidates` can be divided by a number in `primes`.\n",
    "3. The smallest number in `candidates` is a prime.\n",
    "\n",
    "**Exercise:** Prove that the invariants are true with the initial lists defined as above.\n",
    "\n",
    "We will now look as long as there are candidates left. In the loop, we take the smallest number in the `candidates` list, which by the invariant must be a prime. Call it $p$. We then remove all candidates that are divisible by $p$ and then add $p$ to `primes`.\n",
    "\n",
    "**Exercise:** Prove that the invariants are satisfied after these steps whenever they are satisfied before the steps.\n",
    "\n",
    "**Exercise:** Prove that this algorithm terminates and is correct, i.e., that `primes` once the algorithm terminates contain all primes less than or equal to $n$. Correctness does not follow directly from the invariants, so you might have to extend them.\n",
    "\n",
    "**Exercise:** Implement and test this algorithm."
   ]
  },
  {
   "cell_type": "markdown",
   "metadata": {},
   "source": [
    "## Longest increasing substring\n",
    "\n",
    "Assume you have a list of numbers, for example"
   ]
  },
  {
   "cell_type": "code",
   "execution_count": 23,
   "metadata": {
    "collapsed": true
   },
   "outputs": [],
   "source": [
    "x = [12, 45, 32, 65, 78, 23, 35, 45, 57]"
   ]
  },
  {
   "cell_type": "markdown",
   "metadata": {},
   "source": [
    "**Exercise:** Design an algorithm that finds the longest sub-sequence `x[i:j]` such that consecutive numbers are increasing, i.e. `x[k] < x[k+1]` for all `k` in `range(i,j)`  (or one of the longest, if there are more than one with the same length)."
   ]
  },
  {
   "cell_type": "markdown",
   "metadata": {},
   "source": [
    "## Compute the powerset of a set\n",
    "\n",
    "The *powerset* $P(S)$ of a set $S$ is the set that contains all possible subsets of $S$. For example, if $S=\\{a,b,c\\}$, then $P(S) = \\{\\emptyset,\\{a\\}, \\{b\\}, \\{c\\}, \\{a,b\\}, \\{a,c\\}, \\{b,c\\}, \\{a,b,c\\}\\}$.\n",
    "\n",
    "**Exercise:** Assume that $S$ is represented as a list. Design an algorithm that prints out all possible subsets of $S$. Prove that it terminates and is correct.\n",
    "\n",
    "*Hint:* You can solve this problem by combining the numerical base algorithm with an observation about the binary representation of a number and a subset of $S$. We can represent any subset of $S$ by the indices into the list representation of $S$. Given the indices, just pick out the elements at those indices. One way to represent a list of indices is as a binary sequence. The indices of the bits that are 1 should be included, the indices where the bits are 0 should not. If you can generate all the binary vectors of length `k=len(S)`, then you have implicitly generated all subsets of $S$. You can get all these bit vectors by getting all the numbers from zero to $2^k$ and extracting the binary representation."
   ]
  },
  {
   "cell_type": "markdown",
   "metadata": {},
   "source": [
    "## Longest increasing subsequence\n",
    "\n",
    "Notice that this problem has a different name from the previous and is not exactly the same problem.\n",
    "\n",
    "Assume, again, that you have a list of numbers. We want to find the longest sub-sequence of increasing numbers, but this time we are not looking for consecutive indices `i:j`, but a sequence of indices $i_0,i_1,\\ldots,i_m$ such that $i_k<i_{k+1}$ and $x[i_k] < x[i_{k+1}]$.\n",
    "\n",
    "**Exercise** Design an algorithm for computing the longest (or a longest) such sequence of indices $i_0,i_1,\\ldots,i_m$.\n",
    "\n",
    "*Hint:* This problem is harder than the previous one, but you can brute force it by generating *all* subsequences and checking if the invariant is satisfied. This is a *very* inefficient approach, but we need to learn a little more about algorithms before we will see a more efficient solution."
   ]
  }
 ],
 "metadata": {
  "kernelspec": {
   "display_name": "Python 3",
   "language": "python",
   "name": "python3"
  },
  "language_info": {
   "codemirror_mode": {
    "name": "ipython",
    "version": 3
   },
   "file_extension": ".py",
   "mimetype": "text/x-python",
   "name": "python",
   "nbconvert_exporter": "python",
   "pygments_lexer": "ipython3",
   "version": "3.5.2"
  }
 },
 "nbformat": 4,
 "nbformat_minor": 2
}
